{
 "cells": [
  {
   "cell_type": "code",
   "execution_count": 30,
   "metadata": {},
   "outputs": [],
   "source": [
    "import pandas as pd\n",
    "import sqlite3"
   ]
  },
  {
   "cell_type": "code",
   "execution_count": 31,
   "metadata": {},
   "outputs": [],
   "source": [
    "df = pd.read_json('MOCK_DATA.json')"
   ]
  },
  {
   "cell_type": "code",
   "execution_count": 36,
   "metadata": {},
   "outputs": [
    {
     "data": {
      "text/html": [
       "<div>\n",
       "<style scoped>\n",
       "    .dataframe tbody tr th:only-of-type {\n",
       "        vertical-align: middle;\n",
       "    }\n",
       "\n",
       "    .dataframe tbody tr th {\n",
       "        vertical-align: top;\n",
       "    }\n",
       "\n",
       "    .dataframe thead th {\n",
       "        text-align: right;\n",
       "    }\n",
       "</style>\n",
       "<table border=\"1\" class=\"dataframe\">\n",
       "  <thead>\n",
       "    <tr style=\"text-align: right;\">\n",
       "      <th></th>\n",
       "      <th>id</th>\n",
       "      <th>first_name</th>\n",
       "      <th>last_name</th>\n",
       "      <th>email</th>\n",
       "      <th>gender</th>\n",
       "      <th>date_of_birth</th>\n",
       "      <th>industry</th>\n",
       "      <th>salary</th>\n",
       "      <th>years_of_experience</th>\n",
       "    </tr>\n",
       "  </thead>\n",
       "  <tbody>\n",
       "    <tr>\n",
       "      <th>0</th>\n",
       "      <td>1</td>\n",
       "      <td>Annmarie</td>\n",
       "      <td>Crooke</td>\n",
       "      <td>acrooke0@gizmodo.com</td>\n",
       "      <td>None</td>\n",
       "      <td>09/07/1978</td>\n",
       "      <td>Other Specialty Stores</td>\n",
       "      <td>180466.37</td>\n",
       "      <td>10.0</td>\n",
       "    </tr>\n",
       "    <tr>\n",
       "      <th>1</th>\n",
       "      <td>2</td>\n",
       "      <td>Morrie</td>\n",
       "      <td>Lahive</td>\n",
       "      <td>mlahive1@imdb.com</td>\n",
       "      <td>None</td>\n",
       "      <td>20/04/1948</td>\n",
       "      <td>Diversified Financial Services</td>\n",
       "      <td>239640.00</td>\n",
       "      <td>6.0</td>\n",
       "    </tr>\n",
       "    <tr>\n",
       "      <th>2</th>\n",
       "      <td>3</td>\n",
       "      <td>Matthias</td>\n",
       "      <td>Roden</td>\n",
       "      <td>mroden2@abc.net.au</td>\n",
       "      <td>M</td>\n",
       "      <td>30/11/1998</td>\n",
       "      <td>Metal Fabrications</td>\n",
       "      <td>139679.79</td>\n",
       "      <td>31.0</td>\n",
       "    </tr>\n",
       "    <tr>\n",
       "      <th>3</th>\n",
       "      <td>4</td>\n",
       "      <td>Madelin</td>\n",
       "      <td>Domke</td>\n",
       "      <td>mdomke3@mozilla.com</td>\n",
       "      <td>None</td>\n",
       "      <td>05/05/1979</td>\n",
       "      <td>n/a</td>\n",
       "      <td>196786.25</td>\n",
       "      <td>12.0</td>\n",
       "    </tr>\n",
       "    <tr>\n",
       "      <th>4</th>\n",
       "      <td>5</td>\n",
       "      <td>Thain</td>\n",
       "      <td>Souter</td>\n",
       "      <td>tsouter4@cisco.com</td>\n",
       "      <td>M</td>\n",
       "      <td>03/08/2002</td>\n",
       "      <td>n/a</td>\n",
       "      <td>140291.87</td>\n",
       "      <td>28.0</td>\n",
       "    </tr>\n",
       "  </tbody>\n",
       "</table>\n",
       "</div>"
      ],
      "text/plain": [
       "   id first_name last_name                 email gender date_of_birth  \\\n",
       "0   1   Annmarie    Crooke  acrooke0@gizmodo.com   None    09/07/1978   \n",
       "1   2     Morrie    Lahive     mlahive1@imdb.com   None    20/04/1948   \n",
       "2   3   Matthias     Roden    mroden2@abc.net.au      M    30/11/1998   \n",
       "3   4    Madelin     Domke   mdomke3@mozilla.com   None    05/05/1979   \n",
       "4   5      Thain    Souter    tsouter4@cisco.com      M    03/08/2002   \n",
       "\n",
       "                         industry     salary  years_of_experience  \n",
       "0          Other Specialty Stores  180466.37                 10.0  \n",
       "1  Diversified Financial Services  239640.00                  6.0  \n",
       "2              Metal Fabrications  139679.79                 31.0  \n",
       "3                             n/a  196786.25                 12.0  \n",
       "4                             n/a  140291.87                 28.0  "
      ]
     },
     "execution_count": 36,
     "metadata": {},
     "output_type": "execute_result"
    }
   ],
   "source": [
    "df.head()"
   ]
  },
  {
   "cell_type": "code",
   "execution_count": 38,
   "metadata": {},
   "outputs": [
    {
     "data": {
      "text/html": [
       "<div>\n",
       "<style scoped>\n",
       "    .dataframe tbody tr th:only-of-type {\n",
       "        vertical-align: middle;\n",
       "    }\n",
       "\n",
       "    .dataframe tbody tr th {\n",
       "        vertical-align: top;\n",
       "    }\n",
       "\n",
       "    .dataframe thead th {\n",
       "        text-align: right;\n",
       "    }\n",
       "</style>\n",
       "<table border=\"1\" class=\"dataframe\">\n",
       "  <thead>\n",
       "    <tr style=\"text-align: right;\">\n",
       "      <th></th>\n",
       "      <th>id</th>\n",
       "      <th>first_name</th>\n",
       "      <th>last_name</th>\n",
       "      <th>email</th>\n",
       "      <th>gender</th>\n",
       "      <th>date_of_birth</th>\n",
       "      <th>industry</th>\n",
       "      <th>salary</th>\n",
       "      <th>years_of_experience</th>\n",
       "    </tr>\n",
       "  </thead>\n",
       "  <tbody>\n",
       "  </tbody>\n",
       "</table>\n",
       "</div>"
      ],
      "text/plain": [
       "Empty DataFrame\n",
       "Columns: [id, first_name, last_name, email, gender, date_of_birth, industry, salary, years_of_experience]\n",
       "Index: []"
      ]
     },
     "execution_count": 38,
     "metadata": {},
     "output_type": "execute_result"
    }
   ],
   "source": [
    "df[df['salary'].isnull()]"
   ]
  },
  {
   "cell_type": "code",
   "execution_count": 33,
   "metadata": {},
   "outputs": [
    {
     "data": {
      "text/plain": [
       "id                       int64\n",
       "first_name              object\n",
       "last_name               object\n",
       "email                   object\n",
       "gender                  object\n",
       "date_of_birth           object\n",
       "industry                object\n",
       "salary                 float64\n",
       "years_of_experience    float64\n",
       "dtype: object"
      ]
     },
     "execution_count": 33,
     "metadata": {},
     "output_type": "execute_result"
    }
   ],
   "source": [
    "df.dtypes"
   ]
  },
  {
   "cell_type": "code",
   "execution_count": 34,
   "metadata": {},
   "outputs": [
    {
     "data": {
      "text/plain": [
       "id                        0\n",
       "first_name                0\n",
       "last_name                 0\n",
       "email                   476\n",
       "gender                 1021\n",
       "date_of_birth             0\n",
       "industry                229\n",
       "salary                   71\n",
       "years_of_experience      71\n",
       "dtype: int64"
      ]
     },
     "execution_count": 34,
     "metadata": {},
     "output_type": "execute_result"
    }
   ],
   "source": [
    "df_nulls = df.isnull().sum()\n",
    "df_nulls"
   ]
  },
  {
   "cell_type": "code",
   "execution_count": 35,
   "metadata": {},
   "outputs": [
    {
     "name": "stdout",
     "output_type": "stream",
     "text": [
      "first_name 13\n",
      "last_name 20\n",
      "email 36.0\n",
      "industry 62.0\n"
     ]
    }
   ],
   "source": [
    "cols = ['first_name', 'last_name', 'email', 'industry']\n",
    "for col in cols:\n",
    "    print(col, df[col].str.len().max())"
   ]
  },
  {
   "cell_type": "markdown",
   "metadata": {},
   "source": [
    "#### Pushing data into sqlite3"
   ]
  },
  {
   "cell_type": "code",
   "execution_count": 22,
   "metadata": {},
   "outputs": [],
   "source": [
    "df['date_of_birth'] = pd.to_datetime(df['date_of_birth'], dayfirst=True)\n",
    "df['date_of_birth'] = df['date_of_birth'].apply(lambda x : x.strftime('%Y-%m-%d'))"
   ]
  },
  {
   "cell_type": "code",
   "execution_count": 23,
   "metadata": {},
   "outputs": [
    {
     "data": {
      "text/plain": [
       "3000"
      ]
     },
     "execution_count": 23,
     "metadata": {},
     "output_type": "execute_result"
    }
   ],
   "source": [
    "conn = sqlite3.connect('db.sqlite3')\n",
    "df.to_sql('person', conn, if_exists='append', index=False)"
   ]
  },
  {
   "cell_type": "code",
   "execution_count": null,
   "metadata": {},
   "outputs": [],
   "source": []
  }
 ],
 "metadata": {
  "kernelspec": {
   "display_name": "ginger-backend-dQqr8VNX",
   "language": "python",
   "name": "python3"
  },
  "language_info": {
   "codemirror_mode": {
    "name": "ipython",
    "version": 3
   },
   "file_extension": ".py",
   "mimetype": "text/x-python",
   "name": "python",
   "nbconvert_exporter": "python",
   "pygments_lexer": "ipython3",
   "version": "3.9.6"
  }
 },
 "nbformat": 4,
 "nbformat_minor": 2
}
